{
 "cells": [
  {
   "cell_type": "code",
   "execution_count": 7,
   "metadata": {},
   "outputs": [
    {
     "name": "stdout",
     "output_type": "stream",
     "text": [
      "Requirement already satisfied: pytesseract in /usr/local/lib/python3.7/site-packages (0.2.6)\r\n",
      "Requirement already satisfied: Pillow in /usr/local/lib/python3.7/site-packages (from pytesseract) (6.0.0)\r\n"
     ]
    }
   ],
   "source": [
    "!pip3 install pytesseract"
   ]
  },
  {
   "cell_type": "code",
   "execution_count": 12,
   "metadata": {},
   "outputs": [
    {
     "name": "stdout",
     "output_type": "stream",
     "text": [
      "доз окт. 2017 Г. 62-59 мак\n",
      "Задача1\n",
      "\n",
      "ри.оронтатавев)\n",
      "‘Определить производственную мощность цеха втод, если в цехе работает 60 однотипных станков\n",
      "‘ведущей группы на производстве. Режимный фонд времечи одного станка составляет 3300 часов в год.\n",
      "\n",
      "Технологические простои составляют 7% от режимного фонда рабочего времени. Нориа времени на\n",
      "обработку единицы изделия - 15 минут.\n",
      "\n",
      "Производственная мощность цеха (ед. втоду\n",
      "\n",
      " \n",
      "\n",
      "846160 у\n",
      "\n",
      " \n",
      "\n",
      " \n",
      "\n",
      " \n",
      "\n",
      "848160\n",
      "\n",
      "выл использовали 1 из 3 попыток\n",
      "\n",
      "=\n",
      "\n",
      "сократ\n"
     ]
    }
   ],
   "source": [
    "from PIL import Image\n",
    "from pytesseract import image_to_string\n",
    "#import pytesseract\n",
    "print (image_to_string(Image.open('test.jpg'), lang='rus'))\n"
   ]
  },
  {
   "cell_type": "code",
   "execution_count": 7,
   "metadata": {},
   "outputs": [
    {
     "name": "stdout",
     "output_type": "stream",
     "text": [
      "README.MD              data.txt               \u001b[34mpython-getting-started\u001b[m\u001b[m\r\n",
      "TextFromPict.ipynb     \u001b[34mdataFromVSP\u001b[m\u001b[m            \u001b[31mtest.py\u001b[m\u001b[m\r\n",
      "all_users              file_path              text.jpg\r\n"
     ]
    }
   ],
   "source": [
    "!ls"
   ]
  },
  {
   "cell_type": "code",
   "execution_count": 14,
   "metadata": {},
   "outputs": [],
   "source": [
    "s =('-155829034_456239017', 'post-155829034_11', {\"temp\":{\"base\":\"https://pp.userapi.com/\",\"x_\":[\"c841030/v841030395/31502/C6sICmxgYDo\",580,303]}})"
   ]
  },
  {
   "cell_type": "code",
   "execution_count": 15,
   "metadata": {},
   "outputs": [
    {
     "data": {
      "text/plain": [
       "('-155829034_456239017',\n",
       " 'post-155829034_11',\n",
       " {'temp': {'base': 'https://pp.userapi.com/',\n",
       "   'x_': ['c841030/v841030395/31502/C6sICmxgYDo', 580, 303]}})"
      ]
     },
     "execution_count": 15,
     "metadata": {},
     "output_type": "execute_result"
    }
   ],
   "source": [
    "s"
   ]
  },
  {
   "cell_type": "code",
   "execution_count": null,
   "metadata": {},
   "outputs": [],
   "source": [
    "https://pp.userapi.com/topic-155829034_35964308"
   ]
  }
 ],
 "metadata": {
  "kernelspec": {
   "display_name": "Python 3",
   "language": "python",
   "name": "python3"
  },
  "language_info": {
   "codemirror_mode": {
    "name": "ipython",
    "version": 2
   },
   "file_extension": ".py",
   "mimetype": "text/x-python",
   "name": "python",
   "nbconvert_exporter": "python",
   "pygments_lexer": "ipython2",
   "version": "2.7.16"
  }
 },
 "nbformat": 4,
 "nbformat_minor": 2
}
